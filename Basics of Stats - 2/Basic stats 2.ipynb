{
 "cells": [
  {
   "cell_type": "markdown",
   "id": "61b01716-ad29-40cf-b34c-3eba958e22d8",
   "metadata": {},
   "source": [
    "## Basic stats 2"
   ]
  },
  {
   "cell_type": "code",
   "execution_count": 23,
   "id": "d73fac06-1d43-4e9d-8f90-3f13c8d06c37",
   "metadata": {},
   "outputs": [],
   "source": [
    "import numpy as np\n",
    "import scipy.stats as stats"
   ]
  },
  {
   "cell_type": "code",
   "execution_count": 25,
   "id": "0a344638-d6dd-42ab-890d-1756ba53ab76",
   "metadata": {},
   "outputs": [],
   "source": [
    "# Given sample data\n",
    "data = np.array([1.13, 1.55, 1.43, 0.92, 1.25, 1.36, 1.32, 0.85, 1.07, 1.48, 1.20, 1.33, 1.18, 1.22, 1.29])"
   ]
  },
  {
   "cell_type": "code",
   "execution_count": 27,
   "id": "986363ea-30bf-4f51-ab49-96790fa8b6b3",
   "metadata": {},
   "outputs": [],
   "source": [
    "# Sample statistics\n",
    "n = len(data)  # Sample size\n",
    "mean_x = np.mean(data)  # Sample mean\n",
    "std_x = np.std(data, ddof=1)  # Sample standard deviation"
   ]
  },
  {
   "cell_type": "code",
   "execution_count": 29,
   "id": "75e092a4-e064-49ff-b13f-67778105cddc",
   "metadata": {},
   "outputs": [],
   "source": [
    "# Find the t critical value for 99% CI\n",
    "alpha = 0.01  # 1 - confidence level\n",
    "t_critical = stats.t.ppf(1 - alpha/2, df=n-1)"
   ]
  },
  {
   "cell_type": "code",
   "execution_count": 31,
   "id": "b04d4ba7-69ba-46ac-b73b-615ba70fe8bf",
   "metadata": {},
   "outputs": [],
   "source": [
    "# Compute margin of error\n",
    "margin_error = t_critical * (std_x / np.sqrt(n))"
   ]
  },
  {
   "cell_type": "code",
   "execution_count": 33,
   "id": "b638921c-56eb-4381-b6fb-385d6a446776",
   "metadata": {},
   "outputs": [
    {
     "name": "stdout",
     "output_type": "stream",
     "text": [
      "99% Confidence Interval (Sample Std Dev): (1.0902, 1.3871)\n"
     ]
    }
   ],
   "source": [
    "# Confidence interval\n",
    "ci_lower = mean_x - margin_error\n",
    "ci_upper = mean_x + margin_error\n",
    "\n",
    "print(f\"99% Confidence Interval (Sample Std Dev): ({ci_lower:.4f}, {ci_upper:.4f})\")"
   ]
  },
  {
   "cell_type": "code",
   "execution_count": 35,
   "id": "484d99cd-8e3f-4c29-9818-e1a13002141f",
   "metadata": {},
   "outputs": [],
   "source": [
    "# Given population standard deviation\n",
    "sigma = 0.2"
   ]
  },
  {
   "cell_type": "code",
   "execution_count": 37,
   "id": "02f569eb-f899-41dd-9325-83ea7485389e",
   "metadata": {},
   "outputs": [],
   "source": [
    "# Find the z critical value for 99% CI\n",
    "z_critical = stats.norm.ppf(1 - alpha/2)"
   ]
  },
  {
   "cell_type": "code",
   "execution_count": 39,
   "id": "fbfead14-12de-4513-b24b-7774be464ca0",
   "metadata": {},
   "outputs": [],
   "source": [
    "# Compute margin of error\n",
    "margin_error_z = z_critical * (sigma / np.sqrt(n))"
   ]
  },
  {
   "cell_type": "code",
   "execution_count": 41,
   "id": "9681e26f-a9fa-417e-8181-eb4d4307cb6b",
   "metadata": {},
   "outputs": [
    {
     "name": "stdout",
     "output_type": "stream",
     "text": [
      "99% Confidence Interval (Known Pop Std Dev): (1.1057, 1.3717)\n"
     ]
    }
   ],
   "source": [
    "# Confidence interval\n",
    "ci_lower_z = mean_x - margin_error_z\n",
    "ci_upper_z = mean_x + margin_error_z\n",
    "\n",
    "print(f\"99% Confidence Interval (Known Pop Std Dev): ({ci_lower_z:.4f}, {ci_upper_z:.4f})\")"
   ]
  }
 ],
 "metadata": {
  "kernelspec": {
   "display_name": "Python 3 (ipykernel)",
   "language": "python",
   "name": "python3"
  },
  "language_info": {
   "codemirror_mode": {
    "name": "ipython",
    "version": 3
   },
   "file_extension": ".py",
   "mimetype": "text/x-python",
   "name": "python",
   "nbconvert_exporter": "python",
   "pygments_lexer": "ipython3",
   "version": "3.12.4"
  }
 },
 "nbformat": 4,
 "nbformat_minor": 5
}
