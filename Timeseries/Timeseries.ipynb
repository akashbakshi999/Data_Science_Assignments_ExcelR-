{
 "cells": [
  {
   "cell_type": "code",
   "execution_count": 1,
   "id": "5000cae2-61a7-4c7f-b06b-e7be9d2be683",
   "metadata": {},
   "outputs": [
    {
     "data": {
      "text/html": [
       "<div>\n",
       "<style scoped>\n",
       "    .dataframe tbody tr th:only-of-type {\n",
       "        vertical-align: middle;\n",
       "    }\n",
       "\n",
       "    .dataframe tbody tr th {\n",
       "        vertical-align: top;\n",
       "    }\n",
       "\n",
       "    .dataframe thead th {\n",
       "        text-align: right;\n",
       "    }\n",
       "</style>\n",
       "<table border=\"1\" class=\"dataframe\">\n",
       "  <thead>\n",
       "    <tr style=\"text-align: right;\">\n",
       "      <th></th>\n",
       "      <th>date</th>\n",
       "      <th>Ex_rate</th>\n",
       "    </tr>\n",
       "  </thead>\n",
       "  <tbody>\n",
       "    <tr>\n",
       "      <th>0</th>\n",
       "      <td>01-01-1990 00:00</td>\n",
       "      <td>0.7855</td>\n",
       "    </tr>\n",
       "    <tr>\n",
       "      <th>1</th>\n",
       "      <td>02-01-1990 00:00</td>\n",
       "      <td>0.7818</td>\n",
       "    </tr>\n",
       "    <tr>\n",
       "      <th>2</th>\n",
       "      <td>03-01-1990 00:00</td>\n",
       "      <td>0.7867</td>\n",
       "    </tr>\n",
       "    <tr>\n",
       "      <th>3</th>\n",
       "      <td>04-01-1990 00:00</td>\n",
       "      <td>0.7860</td>\n",
       "    </tr>\n",
       "    <tr>\n",
       "      <th>4</th>\n",
       "      <td>05-01-1990 00:00</td>\n",
       "      <td>0.7849</td>\n",
       "    </tr>\n",
       "  </tbody>\n",
       "</table>\n",
       "</div>"
      ],
      "text/plain": [
       "               date  Ex_rate\n",
       "0  01-01-1990 00:00   0.7855\n",
       "1  02-01-1990 00:00   0.7818\n",
       "2  03-01-1990 00:00   0.7867\n",
       "3  04-01-1990 00:00   0.7860\n",
       "4  05-01-1990 00:00   0.7849"
      ]
     },
     "execution_count": 1,
     "metadata": {},
     "output_type": "execute_result"
    }
   ],
   "source": [
    "import pandas as pd\n",
    "\n",
    "# Load the dataset\n",
    "file_path = 'exchange_rate.csv'\n",
    "df = pd.read_csv(file_path, parse_dates=[0])\n",
    "\n",
    "# Display the first few rows to understand the structure\n",
    "df.head()"
   ]
  },
  {
   "cell_type": "code",
   "execution_count": null,
   "id": "b67e32b9-e16f-4efb-9fde-ff3789720047",
   "metadata": {},
   "outputs": [],
   "source": [
    "## Data Preparation and Exploration\n",
    "\n",
    "import matplotlib.pyplot as plt\n",
    "import seaborn as sns"
   ]
  },
  {
   "cell_type": "code",
   "execution_count": null,
   "id": "61303cc2-eda7-4660-b52a-7366f1123520",
   "metadata": {},
   "outputs": [],
   "source": [
    "# Seting the date as index\n",
    "df.set_index('date', inplace=True)"
   ]
  },
  {
   "cell_type": "code",
   "execution_count": null,
   "id": "9b6dfc3c-15fc-4219-8b49-bb6711d244dc",
   "metadata": {},
   "outputs": [],
   "source": [
    "# Checking for missing values\n",
    "missing_values = df.isnull().sum()"
   ]
  },
  {
   "cell_type": "code",
   "execution_count": null,
   "id": "fc93cd8e-8cd9-47de-a654-f20f70d21897",
   "metadata": {},
   "outputs": [],
   "source": [
    "# Plot the time series\n",
    "plt.figure(figsize=(14, 6))\n",
    "plt.plot(df.index, df['Ex_rate'], label='USD to AUD Exchange Rate')\n",
    "plt.title('USD to AUD Exchange Rate Over Time')\n",
    "plt.xlabel('Date')\n",
    "plt.ylabel('Exchange Rate')\n",
    "plt.legend()\n",
    "plt.grid(True)\n",
    "plt.tight_layout()\n",
    "plt.show()\n",
    "\n",
    "missing_values\n"
   ]
  },
  {
   "cell_type": "code",
   "execution_count": null,
   "id": "781719a4-b0a0-469c-9dd3-0b829ec217a3",
   "metadata": {},
   "outputs": [],
   "source": [
    "## Model Building - ARIMA\n",
    "\n",
    "from statsmodels.graphics.tsaplots import plot_acf, plot_pacf\n",
    "from statsmodels.tsa.stattools import adfuller\n",
    "\n",
    "# Checking for stationarity with Augmented Dickey-Fuller test\n",
    "adf_result = adfuller(df['Ex_rate'])\n",
    "adf_result_summary = {\n",
    "    'ADF Statistic': adf_result[0],\n",
    "    'p-value': adf_result[1],\n",
    "    'Critical Values': adf_result[4]\n",
    "}\n",
    "\n",
    "# If p-value > 0.05, difference the series\n",
    "df_diff = df['Ex_rate'].diff().dropna()\n",
    "\n",
    "# Plot ACF and PACF of differenced series\n",
    "fig, axes = plt.subplots(1, 2, figsize=(14, 5))\n",
    "plot_acf(df_diff, ax=axes[0], lags=40)\n",
    "plot_pacf(df_diff, ax=axes[1], lags=40)\n",
    "axes[0].set_title('ACF - Differenced Series')\n",
    "axes[1].set_title('PACF - Differenced Series')\n",
    "plt.tight_layout()\n",
    "plt.show()\n",
    "\n",
    "adf_result_summary\n"
   ]
  },
  {
   "cell_type": "code",
   "execution_count": null,
   "id": "0940512a-a49d-46fd-89d7-530a836a1830",
   "metadata": {},
   "outputs": [],
   "source": [
    "from statsmodels.tsa.arima.model import ARIMA\n",
    "import numpy as np"
   ]
  },
  {
   "cell_type": "code",
   "execution_count": null,
   "id": "a2d9f424-3377-4c9a-ac4d-44ea38988d0a",
   "metadata": {},
   "outputs": [],
   "source": [
    "# Fit ARIMA(1,1,1)\n",
    "model_arima = ARIMA(df['Ex_rate'], order=(1, 1, 1))\n",
    "arima_result = model_arima.fit()"
   ]
  },
  {
   "cell_type": "code",
   "execution_count": null,
   "id": "9d5305c7-4ad8-49e0-8f66-5552915a5e07",
   "metadata": {},
   "outputs": [],
   "source": [
    "# Diagnostics: plot residuals\n",
    "residuals = arima_result.resid\n",
    "\n",
    "fig, axes = plt.subplots(1, 2, figsize=(14, 5))\n",
    "sns.histplot(residuals, bins=30, kde=True, ax=axes[0])\n",
    "axes[0].set_title('Histogram of ARIMA Residuals')\n",
    "axes[0].set_xlabel('Residuals')\n",
    "\n",
    "sns.lineplot(x=np.arange(len(residuals)), y=residuals, ax=axes[1])\n",
    "axes[1].set_title('Residuals Over Time')\n",
    "axes[1].set_xlabel('Time')\n",
    "axes[1].set_ylabel('Residuals')\n",
    "plt.tight_layout()\n",
    "plt.show()"
   ]
  },
  {
   "cell_type": "code",
   "execution_count": null,
   "id": "dafa1bad-a37a-4481-a2f8-1a02138544b7",
   "metadata": {},
   "outputs": [],
   "source": [
    "# Forecasting the next 12 months\n",
    "forecast_arima = arima_result.get_forecast(steps=12)\n",
    "forecast_index = pd.date_range(df.index[-1], periods=12, freq='MS')\n",
    "forecast_mean = forecast_arima.predicted_mean\n",
    "forecast_ci = forecast_arima.conf_int()\n"
   ]
  },
  {
   "cell_type": "code",
   "execution_count": null,
   "id": "6879713f-ce6a-40e6-98a1-3ed793a119eb",
   "metadata": {},
   "outputs": [],
   "source": [
    "# Plot forecast\n",
    "plt.figure(figsize=(14, 6))\n",
    "plt.plot(df.index, df['Ex_rate'], label='Observed')\n",
    "plt.plot(forecast_index, forecast_mean, label='Forecast (ARIMA)', color='orange')\n",
    "plt.fill_between(forecast_index, forecast_ci.iloc[:, 0], forecast_ci.iloc[:, 1], color='orange', alpha=0.3)\n",
    "plt.title('ARIMA Forecast of USD to AUD Exchange Rate')\n",
    "plt.xlabel('Date')\n",
    "plt.ylabel('Exchange Rate')\n",
    "plt.legend()\n",
    "plt.grid(True)\n",
    "plt.tight_layout()\n",
    "plt.show()"
   ]
  }
 ],
 "metadata": {
  "kernelspec": {
   "display_name": "Python 3 (ipykernel)",
   "language": "python",
   "name": "python3"
  },
  "language_info": {
   "codemirror_mode": {
    "name": "ipython",
    "version": 3
   },
   "file_extension": ".py",
   "mimetype": "text/x-python",
   "name": "python",
   "nbconvert_exporter": "python",
   "pygments_lexer": "ipython3",
   "version": "3.12.4"
  }
 },
 "nbformat": 4,
 "nbformat_minor": 5
}
