{
 "cells": [
  {
   "cell_type": "markdown",
   "id": "f93b5ec2-1f88-4b94-a832-cf129223a030",
   "metadata": {},
   "source": [
    "## Hypothesis Testing"
   ]
  },
  {
   "cell_type": "code",
   "execution_count": 1,
   "id": "10634746-ddf7-4486-8810-20e8a5ea6301",
   "metadata": {},
   "outputs": [],
   "source": [
    "import numpy as np\n",
    "import scipy.stats as stats"
   ]
  },
  {
   "cell_type": "code",
   "execution_count": 4,
   "id": "aecd97cd-3d26-4ea6-aad8-9a509e8ff5ba",
   "metadata": {},
   "outputs": [],
   "source": [
    "# Step 1: State the Hypotheses\n",
    "# H0: The weekly operating cost follows the theoretical model (μ = 1000 + 5 * 600 = 4000)\n",
    "# H1: The weekly operating cost is higher than the theoretical model (μ > 4000)"
   ]
  },
  {
   "cell_type": "code",
   "execution_count": 13,
   "id": "f9c2245c-097d-4efd-ac4e-1e6210ec85e8",
   "metadata": {},
   "outputs": [],
   "source": [
    "# Step 2: Define given values\n",
    "sample_mean = 3050  # Sample mean weekly cost\n",
    "n = 25  # Sample size\n",
    "X_mean = 600  # Mean number of units produced\n",
    "theoretical_cost = 1000 + 5 * X_mean  # Expected cost\n",
    "sigma_x = 25  # Standard deviation of X\n",
    "sigma_w = 5 * sigma_x  # Standard deviation of W"
   ]
  },
  {
   "cell_type": "code",
   "execution_count": 15,
   "id": "9c3ad6b5-e9af-492e-a524-b4980e9c5cce",
   "metadata": {},
   "outputs": [
    {
     "data": {
      "text/plain": [
       "25.0"
      ]
     },
     "execution_count": 15,
     "metadata": {},
     "output_type": "execute_result"
    }
   ],
   "source": [
    "# Standard error calculation\n",
    "se = sigma_w / np.sqrt(n)\n",
    "se"
   ]
  },
  {
   "cell_type": "code",
   "execution_count": 7,
   "id": "0f66c781-20d4-42da-8e26-4355a4c163ae",
   "metadata": {},
   "outputs": [
    {
     "name": "stdout",
     "output_type": "stream",
     "text": [
      "Theoretical weekly operating cost: 4000\n",
      "Standard error: 25.0000\n",
      "Test Statistic (z): -38.0000\n"
     ]
    }
   ],
   "source": [
    "# Calculate test statistic (z-score)\n",
    "z_stat = (sample_mean - theoretical_cost) / se\n",
    "print(f\"Theoretical weekly operating cost: {theoretical_cost}\")\n",
    "print(f\"Standard error: {se:.4f}\")\n",
    "print(f\"Test Statistic (z): {z_stat:.4f}\")"
   ]
  },
  {
   "cell_type": "code",
   "execution_count": 9,
   "id": "0936ab9f-6d8b-4cf3-9459-0d2fbc58e2bc",
   "metadata": {},
   "outputs": [
    {
     "name": "stdout",
     "output_type": "stream",
     "text": [
      "Critical value at alpha = 0.05: 1.6449\n"
     ]
    }
   ],
   "source": [
    "# Step 3: Determine the Critical Value\n",
    "alpha = 0.05\n",
    "z_critical = stats.norm.ppf(1 - alpha)\n",
    "print(f\"Critical value at alpha = {alpha}: {z_critical:.4f}\")"
   ]
  },
  {
   "cell_type": "code",
   "execution_count": 11,
   "id": "b92e25b5-cf25-40f5-b3ea-d720ac162403",
   "metadata": {},
   "outputs": [
    {
     "name": "stdout",
     "output_type": "stream",
     "text": [
      "\n",
      "Decision: Fail to reject the null hypothesis (H0).\n",
      "There is insufficient evidence to suggest that the weekly operating costs are higher than the theoretical model.\n"
     ]
    }
   ],
   "source": [
    "# Step 4: Make a Decision\n",
    "if z_stat > z_critical:\n",
    "    print(\"\\nDecision: Reject the null hypothesis (H0).\\nThere is strong evidence to suggest that the weekly operating costs are higher than the theoretical model.\")\n",
    "else:\n",
    "    print(\"\\nDecision: Fail to reject the null hypothesis (H0).\\nThere is insufficient evidence to suggest that the weekly operating costs are higher than the theoretical model.\")\n"
   ]
  },
  {
   "cell_type": "code",
   "execution_count": null,
   "id": "b53c77cf-fb3f-4405-ba99-4a5088cca047",
   "metadata": {},
   "outputs": [],
   "source": []
  },
  {
   "cell_type": "code",
   "execution_count": null,
   "id": "752fbd7a-6629-41d5-bca3-17ffb48a8835",
   "metadata": {},
   "outputs": [],
   "source": []
  }
 ],
 "metadata": {
  "kernelspec": {
   "display_name": "Python 3 (ipykernel)",
   "language": "python",
   "name": "python3"
  },
  "language_info": {
   "codemirror_mode": {
    "name": "ipython",
    "version": 3
   },
   "file_extension": ".py",
   "mimetype": "text/x-python",
   "name": "python",
   "nbconvert_exporter": "python",
   "pygments_lexer": "ipython3",
   "version": "3.12.4"
  }
 },
 "nbformat": 4,
 "nbformat_minor": 5
}
