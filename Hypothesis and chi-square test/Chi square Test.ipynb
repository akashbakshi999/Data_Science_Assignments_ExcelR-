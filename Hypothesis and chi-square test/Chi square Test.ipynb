{
 "cells": [
  {
   "cell_type": "markdown",
   "id": "c758c8d0-3071-4926-bbfb-ec604e960614",
   "metadata": {},
   "source": [
    "## Chi-squaretest"
   ]
  },
  {
   "cell_type": "code",
   "execution_count": 2,
   "id": "529aaae9-a314-487c-b0e6-5011ba20c43d",
   "metadata": {},
   "outputs": [],
   "source": [
    "import numpy as np\n",
    "import pandas as pd\n",
    "from scipy.stats import chi2_contingency, chi2"
   ]
  },
  {
   "cell_type": "code",
   "execution_count": null,
   "id": "2b727a59-4d13-484f-9d8f-45df9a3b9ee6",
   "metadata": {},
   "outputs": [],
   "source": [
    "Step 1: State the Hypotheses\n",
    "# H0: There is no association between the type of device and customer satisfaction.\n",
    "# H1: There is an association between the type of device and customer satisfaction."
   ]
  },
  {
   "cell_type": "code",
   "execution_count": 6,
   "id": "c9c290c3-e3b7-4d91-b10f-711881365965",
   "metadata": {},
   "outputs": [],
   "source": [
    "data = np.array([\n",
    "    [50, 70],  # Very Satisfied\n",
    "    [80, 100],  # Satisfied\n",
    "    [60, 90],  # Neutral\n",
    "    [30, 50],  # Unsatisfied\n",
    "    [20, 50]  # Very Unsatisfied\n",
    "])"
   ]
  },
  {
   "cell_type": "code",
   "execution_count": 8,
   "id": "82829ba7-609c-447b-a5b6-618396fb34f4",
   "metadata": {},
   "outputs": [],
   "source": [
    "# Labels for rows and columns\n",
    "satisfaction_labels = ['Very Satisfied', 'Satisfied', 'Neutral', 'Unsatisfied', 'Very Unsatisfied']\n",
    "device_labels = ['Smart Thermostat', 'Smart Light']"
   ]
  },
  {
   "cell_type": "code",
   "execution_count": 10,
   "id": "4b86bcb8-56ad-4048-b777-646795bb990f",
   "metadata": {},
   "outputs": [
    {
     "name": "stdout",
     "output_type": "stream",
     "text": [
      "Contingency Table:\n",
      "                   Smart Thermostat  Smart Light\n",
      "Very Satisfied                  50           70\n",
      "Satisfied                       80          100\n",
      "Neutral                         60           90\n",
      "Unsatisfied                     30           50\n",
      "Very Unsatisfied                20           50\n"
     ]
    }
   ],
   "source": [
    "# Create a DataFrame for better visualization\n",
    "df = pd.DataFrame(data, columns=device_labels, index=satisfaction_labels)\n",
    "print(\"Contingency Table:\\n\", df)"
   ]
  },
  {
   "cell_type": "code",
   "execution_count": 14,
   "id": "e727b2d3-9d31-4695-8d9f-64db19124d84",
   "metadata": {},
   "outputs": [
    {
     "name": "stdout",
     "output_type": "stream",
     "text": [
      "\n",
      "Chi-Square Statistic: 5.6382\n",
      "P-value: 0.2278\n",
      "Degrees of Freedom: 4\n",
      "\n",
      "Expected Frequencies:\n",
      "                   Smart Thermostat  Smart Light\n",
      "Very Satisfied                48.0         72.0\n",
      "Satisfied                     72.0        108.0\n",
      "Neutral                       60.0         90.0\n",
      "Unsatisfied                   32.0         48.0\n",
      "Very Unsatisfied              28.0         42.0\n"
     ]
    }
   ],
   "source": [
    "chi2_stat, p_value, dof, expected = chi2_contingency(data)\n",
    "print(f\"\\nChi-Square Statistic: {chi2_stat:.4f}\")\n",
    "print(f\"P-value: {p_value:.4f}\")\n",
    "print(f\"Degrees of Freedom: {dof}\")\n",
    "print(\"\\nExpected Frequencies:\\n\", pd.DataFrame(expected, columns=device_labels, index=satisfaction_labels))"
   ]
  },
  {
   "cell_type": "code",
   "execution_count": 16,
   "id": "abe207c2-396f-4ba4-a44e-68f20bda116c",
   "metadata": {},
   "outputs": [
    {
     "name": "stdout",
     "output_type": "stream",
     "text": [
      "\n",
      "Critical Value at alpha = 0.05: 9.4877\n"
     ]
    }
   ],
   "source": [
    "alpha = 0.05\n",
    "critical_value = chi2.ppf(1 - alpha, dof)\n",
    "print(f\"\\nCritical Value at alpha = {alpha}: {critical_value:.4f}\")"
   ]
  },
  {
   "cell_type": "code",
   "execution_count": 18,
   "id": "f1408502-8bc5-4917-adc9-9f6587aebe98",
   "metadata": {},
   "outputs": [
    {
     "name": "stdout",
     "output_type": "stream",
     "text": [
      "\n",
      "Decision: Fail to reject the null hypothesis (H0).\n",
      "There is no significant association between the type of device and customer satisfaction.\n"
     ]
    }
   ],
   "source": [
    "if chi2_stat > critical_value:\n",
    "    print(\"\\nDecision: Reject the null hypothesis (H0).\\nThere is a significant association between the type of device and customer satisfaction.\")\n",
    "else:\n",
    "    print(\"\\nDecision: Fail to reject the null hypothesis (H0).\\nThere is no significant association between the type of device and customer satisfaction.\")\n"
   ]
  }
 ],
 "metadata": {
  "kernelspec": {
   "display_name": "Python 3 (ipykernel)",
   "language": "python",
   "name": "python3"
  },
  "language_info": {
   "codemirror_mode": {
    "name": "ipython",
    "version": 3
   },
   "file_extension": ".py",
   "mimetype": "text/x-python",
   "name": "python",
   "nbconvert_exporter": "python",
   "pygments_lexer": "ipython3",
   "version": "3.12.4"
  }
 },
 "nbformat": 4,
 "nbformat_minor": 5
}
