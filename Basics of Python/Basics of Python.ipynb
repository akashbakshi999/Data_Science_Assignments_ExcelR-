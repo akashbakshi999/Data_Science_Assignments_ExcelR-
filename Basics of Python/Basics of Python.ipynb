{
 "cells": [
  {
   "cell_type": "markdown",
   "id": "c7e693de-7728-4507-adae-df06f0ed19cf",
   "metadata": {},
   "source": [
    "## Basics of Python"
   ]
  },
  {
   "cell_type": "markdown",
   "id": "5bec9707-14bd-4f44-97a5-821496eba33d",
   "metadata": {},
   "source": [
    "#### Question 1"
   ]
  },
  {
   "cell_type": "code",
   "execution_count": 8,
   "id": "fd99e468-1f17-4f71-803d-a76af42fba48",
   "metadata": {},
   "outputs": [
    {
     "name": "stdin",
     "output_type": "stream",
     "text": [
      "Enter a number:  15\n"
     ]
    },
    {
     "name": "stdout",
     "output_type": "stream",
     "text": [
      "15 is not a prime number.\n"
     ]
    }
   ],
   "source": [
    "def is_prime(n):\n",
    "    \"\"\"Check if a number is prime.\"\"\"\n",
    "    if n < 2:\n",
    "        return False  # Prime numbers must be greater than 1\n",
    "    for i in range(2, int(n**0.5) + 1):  # Only check up to sqrt(n)\n",
    "        if n % i == 0:\n",
    "            return False  # Found a divisor, not prime\n",
    "    return True  # No divisors found, it's prime\n",
    "\n",
    "# User input\n",
    "num = int(input(\"Enter a number: \"))\n",
    "\n",
    "# Check and print result\n",
    "if is_prime(num):\n",
    "    print(f\"{num} is a prime number.\")\n",
    "else:\n",
    "    print(f\"{num} is not a prime number.\")\n"
   ]
  },
  {
   "cell_type": "markdown",
   "id": "7180796f-9013-405f-a09c-656171dd7740",
   "metadata": {},
   "source": [
    "#### Question 2"
   ]
  },
  {
   "cell_type": "code",
   "execution_count": 15,
   "id": "9be48946-eca6-4683-9c7e-a153c37a3765",
   "metadata": {},
   "outputs": [
    {
     "name": "stdin",
     "output_type": "stream",
     "text": [
      "What is 1 × 2?  2\n"
     ]
    },
    {
     "name": "stdout",
     "output_type": "stream",
     "text": [
      "✅ Correct! Well done.\n"
     ]
    }
   ],
   "source": [
    "import random\n",
    "\n",
    "# Generated two random numbers between 1 and 10\n",
    "num1 = random.randint(1, 10)\n",
    "num2 = random.randint(1, 10)\n",
    "\n",
    "# Compute the actual product\n",
    "correct_answer = num1 * num2\n",
    "\n",
    "# Ask the user for the product\n",
    "user_answer = int(input(f\"What is {num1} × {num2}? \"))\n",
    "\n",
    "#For Checking the user's answer\n",
    "if user_answer == correct_answer:\n",
    "    print(\"✅ Correct! Well done.\")\n",
    "else:\n",
    "    print(f\"❌ Incorrect. The correct answer is {correct_answer}.\")\n"
   ]
  },
  {
   "cell_type": "markdown",
   "id": "fca5d166-2489-4e9d-9831-fc8639540954",
   "metadata": {},
   "source": [
    "#### Question 3"
   ]
  },
  {
   "cell_type": "code",
   "execution_count": 18,
   "id": "8bd2c14e-0be3-42c3-a399-6bb387e3750d",
   "metadata": {},
   "outputs": [
    {
     "name": "stdout",
     "output_type": "stream",
     "text": [
      "100^2 = 10000\n",
      "102^2 = 10404\n",
      "104^2 = 10816\n",
      "106^2 = 11236\n",
      "108^2 = 11664\n",
      "110^2 = 12100\n",
      "112^2 = 12544\n",
      "114^2 = 12996\n",
      "116^2 = 13456\n",
      "118^2 = 13924\n",
      "120^2 = 14400\n",
      "122^2 = 14884\n",
      "124^2 = 15376\n",
      "126^2 = 15876\n",
      "128^2 = 16384\n",
      "130^2 = 16900\n",
      "132^2 = 17424\n",
      "134^2 = 17956\n",
      "136^2 = 18496\n",
      "138^2 = 19044\n",
      "140^2 = 19600\n",
      "142^2 = 20164\n",
      "144^2 = 20736\n",
      "146^2 = 21316\n",
      "148^2 = 21904\n",
      "150^2 = 22500\n",
      "152^2 = 23104\n",
      "154^2 = 23716\n",
      "156^2 = 24336\n",
      "158^2 = 24964\n",
      "160^2 = 25600\n",
      "162^2 = 26244\n",
      "164^2 = 26896\n",
      "166^2 = 27556\n",
      "168^2 = 28224\n",
      "170^2 = 28900\n",
      "172^2 = 29584\n",
      "174^2 = 30276\n",
      "176^2 = 30976\n",
      "178^2 = 31684\n",
      "180^2 = 32400\n",
      "182^2 = 33124\n",
      "184^2 = 33856\n",
      "186^2 = 34596\n",
      "188^2 = 35344\n",
      "190^2 = 36100\n",
      "192^2 = 36864\n",
      "194^2 = 37636\n",
      "196^2 = 38416\n",
      "198^2 = 39204\n",
      "200^2 = 40000\n"
     ]
    }
   ],
   "source": [
    "# Choice: Squaring all even numbers in the range 100 to 200\n",
    "# Reason: Even numbers are chosen for demonstration purposes\n",
    "\n",
    "# Loop through even numbers in the range\n",
    "for num in range(100, 201, 2):  \n",
    "    print(f\"{num}^2 = {num**2}\")\n"
   ]
  },
  {
   "cell_type": "markdown",
   "id": "42bd0210-df0d-44bc-baa4-b2d491c87465",
   "metadata": {},
   "source": [
    "### Question 4"
   ]
  },
  {
   "cell_type": "code",
   "execution_count": 21,
   "id": "2d86175b-036d-4dbc-ac98-b625d20c68ce",
   "metadata": {},
   "outputs": [
    {
     "name": "stdout",
     "output_type": "stream",
     "text": [
      "'this': 2\n",
      "'is': 1\n",
      "'a': 1\n",
      "'sample': 1\n",
      "'text': 2\n",
      "'will': 1\n",
      "'be': 1\n",
      "'used': 1\n",
      "'to': 1\n",
      "'demonstrate': 1\n",
      "'the': 1\n",
      "'word': 1\n",
      "'counter': 1\n"
     ]
    }
   ],
   "source": [
    "import string\n",
    "\n",
    "def word_count(text):\n",
    "    \"\"\"Count the frequency of each word in the given text.\"\"\"\n",
    "    # Converting text to lowercase and remove punctuation\n",
    "    text = text.lower().translate(str.maketrans('', '', string.punctuation))\n",
    "\n",
    "    # Spliting text into words\n",
    "    words = text.split()\n",
    "\n",
    "    # Creating a dictionary to store word counts\n",
    "    word_freq = {}\n",
    "\n",
    "    for word in words:\n",
    "        word_freq[word] = word_freq.get(word, 0) + 1\n",
    "\n",
    "    return word_freq\n",
    "\n",
    "# Input text\n",
    "input_text = \"This is a sample text. This text will be used to demonstrate the word counter.\"\n",
    "\n",
    "# Get word counts\n",
    "word_counts = word_count(input_text)\n",
    "\n",
    "# Print word counts\n",
    "for word, count in word_counts.items():\n",
    "    print(f\"'{word}': {count}\")\n"
   ]
  },
  {
   "cell_type": "markdown",
   "id": "f8ba5c76-78be-4edb-8219-c2bdc39732f5",
   "metadata": {},
   "source": [
    "### Question 5"
   ]
  },
  {
   "cell_type": "code",
   "execution_count": 24,
   "id": "665d0b7f-2c8e-44ae-944c-5605f45692dc",
   "metadata": {},
   "outputs": [
    {
     "name": "stdout",
     "output_type": "stream",
     "text": [
      "True\n",
      "True\n",
      "False\n",
      "True\n"
     ]
    }
   ],
   "source": [
    "import string\n",
    "\n",
    "def is_palindrome(s):\n",
    "    \"\"\"Check if a given string is a palindrome (ignoring spaces, punctuation, and capitalization).\"\"\"\n",
    "    # Convert to lowercase\n",
    "    s = s.lower()\n",
    "    \n",
    "    # Remove spaces and punctuation\n",
    "    s = ''.join(char for char in s if char.isalnum())  \n",
    "    \n",
    "    # Check if the string is equal to its reverse\n",
    "    return s == s[::-1]\n",
    "\n",
    "# Test cases\n",
    "print(is_palindrome(\"racecar\"))  # True\n",
    "print(is_palindrome(\"A man, a plan, a canal, Panama\"))  # True\n",
    "print(is_palindrome(\"hello\"))  # False\n",
    "print(is_palindrome(\"No 'x' in Nixon\"))  # True\n"
   ]
  },
  {
   "cell_type": "code",
   "execution_count": null,
   "id": "30a931d5-2c53-4f74-b8a9-68153d20bfef",
   "metadata": {},
   "outputs": [],
   "source": []
  }
 ],
 "metadata": {
  "kernelspec": {
   "display_name": "Python 3 (ipykernel)",
   "language": "python",
   "name": "python3"
  },
  "language_info": {
   "codemirror_mode": {
    "name": "ipython",
    "version": 3
   },
   "file_extension": ".py",
   "mimetype": "text/x-python",
   "name": "python",
   "nbconvert_exporter": "python",
   "pygments_lexer": "ipython3",
   "version": "3.12.4"
  }
 },
 "nbformat": 4,
 "nbformat_minor": 5
}
